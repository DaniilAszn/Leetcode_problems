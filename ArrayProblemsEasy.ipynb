{
  "nbformat": 4,
  "nbformat_minor": 0,
  "metadata": {
    "colab": {
      "provenance": [],
      "authorship_tag": "ABX9TyOHB1+3Y/LDuISer2uIvKI1",
      "include_colab_link": true
    },
    "kernelspec": {
      "name": "python3",
      "display_name": "Python 3"
    },
    "language_info": {
      "name": "python"
    }
  },
  "cells": [
    {
      "cell_type": "markdown",
      "metadata": {
        "id": "view-in-github",
        "colab_type": "text"
      },
      "source": [
        "<a href=\"https://colab.research.google.com/github/DaniilAszn/Leetcode_problems/blob/main/ArrayProblemsEasy.ipynb\" target=\"_parent\"><img src=\"https://colab.research.google.com/assets/colab-badge.svg\" alt=\"Open In Colab\"/></a>"
      ]
    },
    {
      "cell_type": "markdown",
      "source": [
        "## 1929. Concatenation of Array\n",
        "\n",
        "Given an integer array nums of length n, you want to create an array ans of length 2n where ans[i] == nums[i] and ans[i + n] == nums[i] for 0 <= i < n (0-indexed).\n",
        "\n",
        "Specifically, ans is the concatenation of two nums arrays.\n",
        "\n",
        "Return the array ans."
      ],
      "metadata": {
        "id": "dkXbCkUf2CgA"
      }
    },
    {
      "cell_type": "code",
      "execution_count": null,
      "metadata": {
        "id": "KA12gTZW1-kv"
      },
      "outputs": [],
      "source": [
        "class Solution(object):\n",
        "    def getConcatenation(self, nums):\n",
        "        \"\"\"\n",
        "        :type nums: List[int]\n",
        "        :rtype: List[int]\n",
        "        \"\"\"\n",
        "        return nums + nums\n"
      ]
    },
    {
      "cell_type": "markdown",
      "source": [
        "## 2011. Final Value of Variable After Performing Operations\n",
        "\n",
        "There is a programming language with only four operations and one variable X:\n",
        "\n",
        "* ++X and X++ increments the value of the variable X by 1.\n",
        "* --X and X-- decrements the value of the variable X by 1.\n",
        "\n",
        "Initially, the value of X is 0.\n",
        "\n",
        "Given an array of strings operations containing a list of operations, return the final value of X after performing all the operations."
      ],
      "metadata": {
        "id": "PHV-UY2aerPz"
      }
    },
    {
      "cell_type": "code",
      "source": [
        "class Solution(object):\n",
        "    def finalValueAfterOperations(self, operations):\n",
        "        \"\"\"\n",
        "        :type operations: List[str]\n",
        "        :rtype: int\n",
        "        \"\"\"\n",
        "        X = 0\n",
        "        for oper in operations:\n",
        "            if oper == '--X' or oper == 'X--':\n",
        "                X -= 1\n",
        "            else:\n",
        "                X += 1\n",
        "\n",
        "        return X\n",
        ""
      ],
      "metadata": {
        "id": "tfKTdQPveq-U"
      },
      "execution_count": 8,
      "outputs": []
    }
  ]
}
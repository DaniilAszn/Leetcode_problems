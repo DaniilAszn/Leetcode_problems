{
  "nbformat": 4,
  "nbformat_minor": 0,
  "metadata": {
    "colab": {
      "provenance": [],
      "authorship_tag": "ABX9TyPm0zLYzC3xt2fAWJbiOeWJ",
      "include_colab_link": true
    },
    "kernelspec": {
      "name": "python3",
      "display_name": "Python 3"
    },
    "language_info": {
      "name": "python"
    }
  },
  "cells": [
    {
      "cell_type": "markdown",
      "metadata": {
        "id": "view-in-github",
        "colab_type": "text"
      },
      "source": [
        "<a href=\"https://colab.research.google.com/github/DaniilAszn/Leetcode_problems/blob/main/ArrayProblemsEasy.ipynb\" target=\"_parent\"><img src=\"https://colab.research.google.com/assets/colab-badge.svg\" alt=\"Open In Colab\"/></a>"
      ]
    },
    {
      "cell_type": "markdown",
      "source": [
        "## 1929. Concatenation of Array\n",
        "\n",
        "Given an integer array nums of length n, you want to create an array ans of length 2n where ans[i] == nums[i] and ans[i + n] == nums[i] for 0 <= i < n (0-indexed).\n",
        "\n",
        "Specifically, ans is the concatenation of two nums arrays.\n",
        "\n",
        "Return the array ans."
      ],
      "metadata": {
        "id": "dkXbCkUf2CgA"
      }
    },
    {
      "cell_type": "code",
      "execution_count": 1,
      "metadata": {
        "id": "KA12gTZW1-kv"
      },
      "outputs": [],
      "source": [
        "class Solution(object):\n",
        "    def getConcatenation(self, nums):\n",
        "        \"\"\"\n",
        "        :type nums: List[int]\n",
        "        :rtype: List[int]\n",
        "        \"\"\"\n",
        "        return nums + nums\n",
        ""
      ]
    }
  ]
}